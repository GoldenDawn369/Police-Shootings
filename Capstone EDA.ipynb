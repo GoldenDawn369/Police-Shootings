{
 "cells": [
  {
   "cell_type": "code",
   "execution_count": 3,
   "id": "2f3d9c72",
   "metadata": {},
   "outputs": [],
   "source": [
    "import numpy as np \n",
    "import pandas as pd\n",
    "import matplotlib.pyplot as plt\n",
    "import seaborn as sb\n",
    "from mlxtend.preprocessing import minmax_scaling\n",
    "import plotly.express as px\n",
    "import datetime as dt"
   ]
  },
  {
   "cell_type": "code",
   "execution_count": 425,
   "id": "a6460f9b",
   "metadata": {},
   "outputs": [],
   "source": [
    "import warnings \n",
    "warnings.filterwarnings('ignore')"
   ]
  },
  {
   "cell_type": "markdown",
   "id": "50c2103c",
   "metadata": {},
   "source": [
    "# Introduction "
   ]
  },
  {
   "cell_type": "markdown",
   "id": "66172ada",
   "metadata": {},
   "source": [
    "**Here I will be analyzing the data of police shootings that happened in the US from 2015 to 2017**"
   ]
  },
  {
   "cell_type": "markdown",
   "id": "faf1c252",
   "metadata": {},
   "source": [
    "# Loading The Data"
   ]
  },
  {
   "cell_type": "code",
   "execution_count": 5,
   "id": "e2e23f19",
   "metadata": {},
   "outputs": [
    {
     "data": {
      "text/html": [
       "<div>\n",
       "<style scoped>\n",
       "    .dataframe tbody tr th:only-of-type {\n",
       "        vertical-align: middle;\n",
       "    }\n",
       "\n",
       "    .dataframe tbody tr th {\n",
       "        vertical-align: top;\n",
       "    }\n",
       "\n",
       "    .dataframe thead th {\n",
       "        text-align: right;\n",
       "    }\n",
       "</style>\n",
       "<table border=\"1\" class=\"dataframe\">\n",
       "  <thead>\n",
       "    <tr style=\"text-align: right;\">\n",
       "      <th></th>\n",
       "      <th>name</th>\n",
       "      <th>date</th>\n",
       "      <th>manner_of_death</th>\n",
       "      <th>armed</th>\n",
       "      <th>age</th>\n",
       "      <th>gender</th>\n",
       "      <th>race</th>\n",
       "      <th>city</th>\n",
       "      <th>state</th>\n",
       "      <th>signs_of_mental_illness</th>\n",
       "      <th>threat_level</th>\n",
       "      <th>flee</th>\n",
       "      <th>body_camera</th>\n",
       "    </tr>\n",
       "    <tr>\n",
       "      <th>id</th>\n",
       "      <th></th>\n",
       "      <th></th>\n",
       "      <th></th>\n",
       "      <th></th>\n",
       "      <th></th>\n",
       "      <th></th>\n",
       "      <th></th>\n",
       "      <th></th>\n",
       "      <th></th>\n",
       "      <th></th>\n",
       "      <th></th>\n",
       "      <th></th>\n",
       "      <th></th>\n",
       "    </tr>\n",
       "  </thead>\n",
       "  <tbody>\n",
       "    <tr>\n",
       "      <th>3</th>\n",
       "      <td>Tim Elliot</td>\n",
       "      <td>2015-01-02</td>\n",
       "      <td>shot</td>\n",
       "      <td>gun</td>\n",
       "      <td>53.0</td>\n",
       "      <td>M</td>\n",
       "      <td>A</td>\n",
       "      <td>Shelton</td>\n",
       "      <td>WA</td>\n",
       "      <td>True</td>\n",
       "      <td>attack</td>\n",
       "      <td>Not fleeing</td>\n",
       "      <td>False</td>\n",
       "    </tr>\n",
       "    <tr>\n",
       "      <th>4</th>\n",
       "      <td>Lewis Lee Lembke</td>\n",
       "      <td>2015-01-02</td>\n",
       "      <td>shot</td>\n",
       "      <td>gun</td>\n",
       "      <td>47.0</td>\n",
       "      <td>M</td>\n",
       "      <td>W</td>\n",
       "      <td>Aloha</td>\n",
       "      <td>OR</td>\n",
       "      <td>False</td>\n",
       "      <td>attack</td>\n",
       "      <td>Not fleeing</td>\n",
       "      <td>False</td>\n",
       "    </tr>\n",
       "    <tr>\n",
       "      <th>5</th>\n",
       "      <td>John Paul Quintero</td>\n",
       "      <td>2015-01-03</td>\n",
       "      <td>shot and Tasered</td>\n",
       "      <td>unarmed</td>\n",
       "      <td>23.0</td>\n",
       "      <td>M</td>\n",
       "      <td>H</td>\n",
       "      <td>Wichita</td>\n",
       "      <td>KS</td>\n",
       "      <td>False</td>\n",
       "      <td>other</td>\n",
       "      <td>Not fleeing</td>\n",
       "      <td>False</td>\n",
       "    </tr>\n",
       "    <tr>\n",
       "      <th>8</th>\n",
       "      <td>Matthew Hoffman</td>\n",
       "      <td>2015-01-04</td>\n",
       "      <td>shot</td>\n",
       "      <td>toy weapon</td>\n",
       "      <td>32.0</td>\n",
       "      <td>M</td>\n",
       "      <td>W</td>\n",
       "      <td>San Francisco</td>\n",
       "      <td>CA</td>\n",
       "      <td>True</td>\n",
       "      <td>attack</td>\n",
       "      <td>Not fleeing</td>\n",
       "      <td>False</td>\n",
       "    </tr>\n",
       "    <tr>\n",
       "      <th>9</th>\n",
       "      <td>Michael Rodriguez</td>\n",
       "      <td>2015-01-04</td>\n",
       "      <td>shot</td>\n",
       "      <td>nail gun</td>\n",
       "      <td>39.0</td>\n",
       "      <td>M</td>\n",
       "      <td>H</td>\n",
       "      <td>Evans</td>\n",
       "      <td>CO</td>\n",
       "      <td>False</td>\n",
       "      <td>attack</td>\n",
       "      <td>Not fleeing</td>\n",
       "      <td>False</td>\n",
       "    </tr>\n",
       "  </tbody>\n",
       "</table>\n",
       "</div>"
      ],
      "text/plain": [
       "                  name        date   manner_of_death       armed   age gender  \\\n",
       "id                                                                              \n",
       "3           Tim Elliot  2015-01-02              shot         gun  53.0      M   \n",
       "4     Lewis Lee Lembke  2015-01-02              shot         gun  47.0      M   \n",
       "5   John Paul Quintero  2015-01-03  shot and Tasered     unarmed  23.0      M   \n",
       "8      Matthew Hoffman  2015-01-04              shot  toy weapon  32.0      M   \n",
       "9    Michael Rodriguez  2015-01-04              shot    nail gun  39.0      M   \n",
       "\n",
       "   race           city state  signs_of_mental_illness threat_level  \\\n",
       "id                                                                   \n",
       "3     A        Shelton    WA                     True       attack   \n",
       "4     W          Aloha    OR                    False       attack   \n",
       "5     H        Wichita    KS                    False        other   \n",
       "8     W  San Francisco    CA                     True       attack   \n",
       "9     H          Evans    CO                    False       attack   \n",
       "\n",
       "           flee  body_camera  \n",
       "id                            \n",
       "3   Not fleeing        False  \n",
       "4   Not fleeing        False  \n",
       "5   Not fleeing        False  \n",
       "8   Not fleeing        False  \n",
       "9   Not fleeing        False  "
      ]
     },
     "execution_count": 5,
     "metadata": {},
     "output_type": "execute_result"
    }
   ],
   "source": [
    "shooting_data = pd.read_csv('./shootings.csv', sep=',', index_col=0)\n",
    "shooting_data.head(5)"
   ]
  },
  {
   "cell_type": "markdown",
   "id": "7619530d",
   "metadata": {},
   "source": [
    "# Data Cleaning"
   ]
  },
  {
   "cell_type": "code",
   "execution_count": 246,
   "id": "f2b27678",
   "metadata": {},
   "outputs": [
    {
     "data": {
      "text/plain": [
       "True"
      ]
     },
     "execution_count": 246,
     "metadata": {},
     "output_type": "execute_result"
    }
   ],
   "source": [
    "shooting_data.duplicated().any()"
   ]
  },
  {
   "cell_type": "code",
   "execution_count": 247,
   "id": "f0577076",
   "metadata": {},
   "outputs": [
    {
     "data": {
      "text/plain": [
       "name                        19\n",
       "date                         0\n",
       "manner_of_death              0\n",
       "armed                        6\n",
       "age                         43\n",
       "gender                       1\n",
       "race                       103\n",
       "city                         0\n",
       "state                        0\n",
       "signs_of_mental_illness      0\n",
       "threat_level                 0\n",
       "flee                        36\n",
       "body_camera                  0\n",
       "dtype: int64"
      ]
     },
     "execution_count": 247,
     "metadata": {},
     "output_type": "execute_result"
    }
   ],
   "source": [
    "missing_values_count = shooting_data.isnull().sum()\n",
    "missing_values_count  "
   ]
  },
  {
   "cell_type": "code",
   "execution_count": 6,
   "id": "6b11ff17",
   "metadata": {},
   "outputs": [],
   "source": [
    "shooting_data = shooting_data.dropna()"
   ]
  },
  {
   "cell_type": "markdown",
   "id": "0fe7543c",
   "metadata": {},
   "source": [
    "# Treating the outliers"
   ]
  },
  {
   "cell_type": "code",
   "execution_count": 428,
   "id": "6a4b3862",
   "metadata": {},
   "outputs": [
    {
     "data": {
      "image/png": "[encoded data removed]",
      "text/plain": [
       "<Figure size 864x576 with 1 Axes>"
      ]
     },
     "metadata": {},
     "output_type": "display_data"
    }
   ],
   "source": [
    "sb.boxplot(x='race', y='age', data=shooting_data)\n",
    "plt.xlabel(\"Race\")\n",
    "plt.ylabel(\"Age\")\n",
    "plt.title(\"Boxplot of age with respect to race\")\n",
    "plt.show()"
   ]
  },
  {
   "cell_type": "markdown",
   "id": "015389d4",
   "metadata": {},
   "source": [
    "**What's interesting here is that we can see most of the people killed  not in the normal age group were black or hispanic**"
   ]
  },
  {
   "cell_type": "markdown",
   "id": "50500298",
   "metadata": {},
   "source": [
    "## Number of people killed by race"
   ]
  },
  {
   "cell_type": "code",
   "execution_count": 429,
   "id": "4cff52d9",
   "metadata": {},
   "outputs": [
    {
     "data": {
      "text/plain": [
       "W    1022\n",
       "B     523\n",
       "H     355\n",
       "A      32\n",
       "O      28\n",
       "N      26\n",
       "Name: race, dtype: int64"
      ]
     },
     "execution_count": 429,
     "metadata": {},
     "output_type": "execute_result"
    }
   ],
   "source": [
    "race_killed = shooting_data.race.value_counts()\n",
    "race_killed"
   ]
  },
  {
   "cell_type": "markdown",
   "id": "fe05c045",
   "metadata": {},
   "source": [
    "**Here looking at the numbers it may seem that it's far more likely for a white person to get killed by the police, though it doesn't tell us the whole story since there is quite a large difference in the population so we will have to take a deeper look**"
   ]
  },
  {
   "cell_type": "code",
   "execution_count": 433,
   "id": "06142c53",
   "metadata": {},
   "outputs": [
    {
     "data": {
      "image/png": "[encoded data removed]",
      "text/plain": [
       "<Figure size 864x576 with 1 Axes>"
      ]
     },
     "metadata": {},
     "output_type": "display_data"
    }
   ],
   "source": [
    "sb.countplot(data = shooting_data, x = 'race')\n",
    "plt.title('People Shot By Race')\n",
    "plt.show()"
   ]
  },
  {
   "cell_type": "markdown",
   "id": "747e860c",
   "metadata": {},
   "source": [
    "## Taking the percentage of people killed"
   ]
  },
  {
   "cell_type": "code",
   "execution_count": 251,
   "id": "e8458599",
   "metadata": {},
   "outputs": [
    {
     "data": {
      "text/plain": [
       "W    0.51\n",
       "B    0.26\n",
       "H    0.18\n",
       "A    0.02\n",
       "O    0.01\n",
       "N    0.01\n",
       "Name: race, dtype: float64"
      ]
     },
     "execution_count": 251,
     "metadata": {},
     "output_type": "execute_result"
    }
   ],
   "source": [
    "race_killed_percentage = shooting_data.race.value_counts(normalize = True)\n",
    "race_killed_percentage.round(2)"
   ]
  },
  {
   "cell_type": "markdown",
   "id": "71565a55",
   "metadata": {},
   "source": [
    "## Percentages in a pie chart"
   ]
  },
  {
   "cell_type": "code",
   "execution_count": 252,
   "id": "e1b41ee9",
   "metadata": {},
   "outputs": [
    {
     "data": {
      "image/png": "[encoded data removed]",
      "text/plain": [
       "<Figure size 1080x720 with 1 Axes>"
      ]
     },
     "metadata": {},
     "output_type": "display_data"
    }
   ],
   "source": [
    "shooting_data['race'].value_counts().plot.pie(textprops={'fontsize': 12}, autopct='%.2f%%', figsize=(15, 10))\n",
    "plt.rcParams['legend.fontsize'] = 12\n",
    "plt.legend(loc = 'upper right')\n",
    "plt.show()"
   ]
  },
  {
   "cell_type": "markdown",
   "id": "4d5e533a",
   "metadata": {},
   "source": [
    "## Killings in relation to the population of each race"
   ]
  },
  {
   "cell_type": "markdown",
   "id": "fe519f7c",
   "metadata": {},
   "source": [
    "**Here I'm taking the population of races in 2021 and dividing the people killed of each race by that number there might be a better way to do this though I am not familiar with it**"
   ]
  },
  {
   "cell_type": "code",
   "execution_count": 253,
   "id": "6a514104",
   "metadata": {},
   "outputs": [],
   "source": [
    "killings_proportional_to_pop = {'White' : [1022/(332997863 * 0.603)], 'Black' : [523/(332997863 * 0.134)], 'Hispanic' : [355/(332997863 * 0.185)], 'Asian' : [32/(332997863 * 0.059)], 'Native American' : [26/(332997863 * 0.016)]}"
   ]
  },
  {
   "cell_type": "code",
   "execution_count": 473,
   "id": "733ebbf1",
   "metadata": {},
   "outputs": [],
   "source": [
    "proportions = pd.DataFrame(data=killings_proportional_to_pop)"
   ]
  },
  {
   "cell_type": "markdown",
   "id": "53c01250",
   "metadata": {},
   "source": [
    "# Taking people killed by the million and plotting it"
   ]
  },
  {
   "cell_type": "code",
   "execution_count": 255,
   "id": "eef65707",
   "metadata": {},
   "outputs": [
    {
     "data": {
      "text/html": [
       "<div>\n",
       "<style scoped>\n",
       "    .dataframe tbody tr th:only-of-type {\n",
       "        vertical-align: middle;\n",
       "    }\n",
       "\n",
       "    .dataframe tbody tr th {\n",
       "        vertical-align: top;\n",
       "    }\n",
       "\n",
       "    .dataframe thead th {\n",
       "        text-align: right;\n",
       "    }\n",
       "</style>\n",
       "<table border=\"1\" class=\"dataframe\">\n",
       "  <thead>\n",
       "    <tr style=\"text-align: right;\">\n",
       "      <th></th>\n",
       "      <th>White</th>\n",
       "      <th>Black</th>\n",
       "      <th>Hispanic</th>\n",
       "      <th>Asian</th>\n",
       "      <th>Native American</th>\n",
       "    </tr>\n",
       "  </thead>\n",
       "  <tbody>\n",
       "    <tr>\n",
       "      <th>0</th>\n",
       "      <td>5.09</td>\n",
       "      <td>11.72</td>\n",
       "      <td>5.76</td>\n",
       "      <td>1.63</td>\n",
       "      <td>4.88</td>\n",
       "    </tr>\n",
       "  </tbody>\n",
       "</table>\n",
       "</div>"
      ],
      "text/plain": [
       "   White  Black  Hispanic  Asian  Native American\n",
       "0   5.09  11.72      5.76   1.63             4.88"
      ]
     },
     "execution_count": 255,
     "metadata": {},
     "output_type": "execute_result"
    }
   ],
   "source": [
    "for key in proportions:\n",
    "    proportions[key] *= 1000000\n",
    "proportions.round(2)"
   ]
  },
  {
   "cell_type": "code",
   "execution_count": 460,
   "id": "5415e26c",
   "metadata": {},
   "outputs": [
    {
     "data": {
      "image/png": "[encoded data removed]",
      "text/plain": [
       "<Figure size 864x576 with 1 Axes>"
      ]
     },
     "metadata": {},
     "output_type": "display_data"
    }
   ],
   "source": [
    "ax = sb.barplot(data=proportions,)\n",
    "plt.xlabel(\"Number of Projected Deaths\")\n",
    "plt.title(\"Killings Based Off Rates Per One Million People Over Two Years\")\n",
    "plt.show()"
   ]
  },
  {
   "cell_type": "markdown",
   "id": "ea499ec5",
   "metadata": {},
   "source": [
    "**Now we are getting closer to uncovering a bias in police shootings in the US though there is still one more thing to check if the person of that race was threatening the officers life**"
   ]
  },
  {
   "cell_type": "code",
   "execution_count": 456,
   "id": "6ff524b2",
   "metadata": {},
   "outputs": [
    {
     "data": {
      "text/plain": [
       "67.62"
      ]
     },
     "execution_count": 456,
     "metadata": {},
     "output_type": "execute_result"
    }
   ],
   "source": [
    "black_attack = ((shooting_data['race'] == 'B') & (shooting_data['threat_level'] == 'attack')).sum()\n",
    "round((black_attack/522) * 100, 2)"
   ]
  },
  {
   "cell_type": "code",
   "execution_count": 458,
   "id": "062611fa",
   "metadata": {},
   "outputs": [
    {
     "data": {
      "text/plain": [
       "67.22"
      ]
     },
     "execution_count": 458,
     "metadata": {},
     "output_type": "execute_result"
    }
   ],
   "source": [
    "white_attack = ((shooting_data['race'] == 'W') & (shooting_data['threat_level'] == 'attack')).sum()\n",
    "round((white_attack/1022) * 100, 2)"
   ]
  },
  {
   "cell_type": "code",
   "execution_count": 461,
   "id": "a2f081dd",
   "metadata": {},
   "outputs": [
    {
     "data": {
      "text/plain": [
       "59.44"
      ]
     },
     "execution_count": 461,
     "metadata": {},
     "output_type": "execute_result"
    }
   ],
   "source": [
    "hispanic_attack = ((shooting_data['race'] == 'H') & (shooting_data['threat_level'] == 'attack')).sum()\n",
    "round((hispanic_attack/355) * 100, 2)"
   ]
  },
  {
   "cell_type": "markdown",
   "id": "b84087e7",
   "metadata": {},
   "source": [
    "**Here from these numbers it can be seen that black people are more likely to be shot by the police since they attack them at pretty much the same rate as white people do**"
   ]
  },
  {
   "cell_type": "markdown",
   "id": "2045c816",
   "metadata": {},
   "source": [
    "# Taking a look at the year/month/day statistics"
   ]
  },
  {
   "cell_type": "code",
   "execution_count": 513,
   "id": "a02fad2a",
   "metadata": {},
   "outputs": [],
   "source": [
    "shooting_data[\"date\"] = pd.to_datetime(shooting_data[\"date\"])"
   ]
  },
  {
   "cell_type": "code",
   "execution_count": 525,
   "id": "2d122bb1",
   "metadata": {},
   "outputs": [],
   "source": [
    "shooting_data['year'] = shooting_data.date.dt.year"
   ]
  },
  {
   "cell_type": "code",
   "execution_count": 528,
   "id": "74cfa54c",
   "metadata": {},
   "outputs": [],
   "source": [
    "shooting_data['day'] = shooting_data.date.dt.day"
   ]
  },
  {
   "cell_type": "code",
   "execution_count": 516,
   "id": "8eb7e988",
   "metadata": {},
   "outputs": [],
   "source": [
    "shooting_data['month'] = shooting_data.date.dt.month"
   ]
  },
  {
   "cell_type": "code",
   "execution_count": 544,
   "id": "07708980",
   "metadata": {},
   "outputs": [
    {
     "data": {
      "image/png": "[encoded data removed]",
      "text/plain": [
       "<Figure size 1080x1080 with 4 Axes>"
      ]
     },
     "metadata": {},
     "output_type": "display_data"
    }
   ],
   "source": [
    "fig, ((ax1, ax2), (ax3, ax4)) = plt.subplots(nrows=2, ncols=2,squeeze=True, figsize=(15,15))\n",
    "\n",
    "bydate = shooting_data[['date','name']].groupby('date').count().sort_values(by='date')\n",
    "bydate.rename(columns={\"name\":'count'}, inplace=True)\n",
    "bydate.resample('15D').mean().plot(\n",
    "    title=('Trend in the daily number of shootings from 2015 to end of 2017'),ax=ax1)\n",
    "\n",
    "shooting_data.groupby('year').count()['name'].plot(\n",
    "    kind='bar',  ylabel=('count'),\n",
    "    title=('Yearly Fatal Shooting Count'), ax=ax2)\n",
    "                            \n",
    "\n",
    "shooting_data.groupby('month').count()['name'].plot(\n",
    "    kind='barh', ylabel=('count'),\n",
    "    title=('Monthly Fatal Shooting Count'), ax=ax3)\n",
    "\n",
    "\n",
    "shooting_data.groupby('day').count()['name'].plot(\n",
    "    kind='barh', ylabel=('count'),\n",
    "    title=('Daily Fatal Shooting Count'), ax=ax4)\n",
    "plt.show()"
   ]
  },
  {
   "cell_type": "markdown",
   "id": "2ae9cebf",
   "metadata": {},
   "source": [
    "# Checking to see if there were any minors killed"
   ]
  },
  {
   "cell_type": "code",
   "execution_count": 545,
   "id": "d24c5c7e",
   "metadata": {},
   "outputs": [
    {
     "data": {
      "text/plain": [
       "True"
      ]
     },
     "execution_count": 545,
     "metadata": {},
     "output_type": "execute_result"
    }
   ],
   "source": [
    "(shooting_data['age'] < 18).any()"
   ]
  },
  {
   "cell_type": "markdown",
   "id": "190c081e",
   "metadata": {},
   "source": [
    "**As we can see there was, hopefully it's not too much**"
   ]
  },
  {
   "cell_type": "code",
   "execution_count": 484,
   "id": "de11ad8c",
   "metadata": {},
   "outputs": [
    {
     "data": {
      "text/plain": [
       "False    1948\n",
       "True       38\n",
       "Name: age, dtype: int64"
      ]
     },
     "execution_count": 484,
     "metadata": {},
     "output_type": "execute_result"
    }
   ],
   "source": [
    "(shooting_data['age'] < 18).value_counts()"
   ]
  },
  {
   "cell_type": "code",
   "execution_count": 485,
   "id": "4d92b6b3",
   "metadata": {},
   "outputs": [
    {
     "data": {
      "text/plain": [
       "False    0.980866\n",
       "True     0.019134\n",
       "Name: age, dtype: float64"
      ]
     },
     "execution_count": 485,
     "metadata": {},
     "output_type": "execute_result"
    }
   ],
   "source": [
    "(shooting_data['age'] < 18).value_counts(normalize = True)"
   ]
  },
  {
   "cell_type": "markdown",
   "id": "62177af6",
   "metadata": {},
   "source": [
    "**As we can see about 2% were little children which is super sad to see**"
   ]
  },
  {
   "cell_type": "code",
   "execution_count": 486,
   "id": "e1346db9",
   "metadata": {},
   "outputs": [
    {
     "data": {
      "text/plain": [
       "CA    320\n",
       "TX    183\n",
       "FL    121\n",
       "AZ     89\n",
       "NC     63\n",
       "CO     59\n",
       "OH     59\n",
       "GA     56\n",
       "OK     54\n",
       "MO     50\n",
       "Name: state, dtype: int64"
      ]
     },
     "execution_count": 486,
     "metadata": {},
     "output_type": "execute_result"
    }
   ],
   "source": [
    "most_violent_states = shooting_data.state.value_counts(ascending = False).head(10)\n",
    "most_violent_states"
   ]
  },
  {
   "cell_type": "markdown",
   "id": "572b2ad3",
   "metadata": {},
   "source": [
    "# Most violent states and cities"
   ]
  },
  {
   "cell_type": "code",
   "execution_count": 549,
   "id": "4c0c32df",
   "metadata": {},
   "outputs": [
    {
     "data": {
      "image/png": "[encoded data removed]",
      "text/plain": [
       "<Figure size 1080x720 with 1 Axes>"
      ]
     },
     "metadata": {},
     "output_type": "display_data"
    }
   ],
   "source": [
    "ax = most_violent_states.plot.barh(figsize = (15,10))\n",
    "plt.title('Most Violent States')\n",
    "plt.show()"
   ]
  },
  {
   "cell_type": "markdown",
   "id": "1db5e012",
   "metadata": {},
   "source": [
    "**It might seem that there are some really violent states compared to others but the explanation for that is that the population of the state is much larger compared to others**"
   ]
  },
  {
   "cell_type": "code",
   "execution_count": 477,
   "id": "20874c94",
   "metadata": {},
   "outputs": [
    {
     "data": {
      "text/plain": [
       "Los Angeles     30\n",
       "Houston         22\n",
       "Phoenix         22\n",
       "Chicago         20\n",
       "Austin          16\n",
       "Las Vegas       15\n",
       "Miami           15\n",
       "Columbus        14\n",
       "San Antonio     14\n",
       "Indianapolis    13\n",
       "Name: city, dtype: int64"
      ]
     },
     "execution_count": 477,
     "metadata": {},
     "output_type": "execute_result"
    }
   ],
   "source": [
    "most_violent_cities = shooting_data.city.value_counts(ascending = False).head(10)\n",
    "most_violent_cities"
   ]
  },
  {
   "cell_type": "code",
   "execution_count": 550,
   "id": "8bfb6f6b",
   "metadata": {},
   "outputs": [
    {
     "data": {
      "image/png": "[encoded data removed]",
      "text/plain": [
       "<Figure size 1080x720 with 1 Axes>"
      ]
     },
     "metadata": {},
     "output_type": "display_data"
    }
   ],
   "source": [
    "ax = most_violent_cities.plot.barh(figsize = (15,10))\n",
    "plt.title('Most Violent Cities')\n",
    "plt.show()"
   ]
  },
  {
   "cell_type": "markdown",
   "id": "20d8023f",
   "metadata": {},
   "source": [
    "**The same thought process works for the cities also**"
   ]
  },
  {
   "cell_type": "markdown",
   "id": "24594e88",
   "metadata": {},
   "source": [
    "# Taking a look at the manner of death of the victims"
   ]
  },
  {
   "cell_type": "code",
   "execution_count": 547,
   "id": "618487cd",
   "metadata": {},
   "outputs": [
    {
     "data": {
      "image/png": "[encoded data removed]",
      "text/plain": [
       "<Figure size 1080x720 with 1 Axes>"
      ]
     },
     "metadata": {},
     "output_type": "display_data"
    }
   ],
   "source": [
    "plt.figure(0, figsize=(15,10))\n",
    "shooting_data.manner_of_death.value_counts().plot.pie(\n",
    "    title=('Visual expression of Manner of Death'),autopct=\"%.1f%%\",ylabel=(''))\n",
    "plt.show()"
   ]
  },
  {
   "cell_type": "markdown",
   "id": "cd836535",
   "metadata": {},
   "source": [
    "# Gender plot"
   ]
  },
  {
   "cell_type": "code",
   "execution_count": 435,
   "id": "f9110375",
   "metadata": {},
   "outputs": [
    {
     "data": {
      "image/png": "[encoded data removed]",
      "text/plain": [
       "<Figure size 1080x720 with 1 Axes>"
      ]
     },
     "metadata": {},
     "output_type": "display_data"
    }
   ],
   "source": [
    "plt.figure(1, figsize=(15,10))\n",
    "shooting_data.gender.value_counts().plot.pie(\n",
    "    title=('Visual expression of Gender'),autopct=\"%.1f%%\" ,\n",
    "    ylabel=(''))\n",
    "plt.show()"
   ]
  },
  {
   "cell_type": "code",
   "execution_count": 548,
   "id": "e589a290",
   "metadata": {},
   "outputs": [
    {
     "data": {
      "image/png": "[encoded data removed]",
      "text/plain": [
       "<Figure size 1080x720 with 1 Axes>"
      ]
     },
     "metadata": {},
     "output_type": "display_data"
    }
   ],
   "source": [
    "plt.figure(2, figsize=(15,10))\n",
    "shooting_data.signs_of_mental_illness.value_counts().plot.pie(\n",
    "    title=('Visual expression of Signs of mental ilness'),autopct=\"%.1f%%\",\n",
    "    ylabel=(''))\n",
    "plt.show()"
   ]
  },
  {
   "cell_type": "markdown",
   "id": "ac467652",
   "metadata": {},
   "source": [
    "# Taking a look at the threat level to the officers"
   ]
  },
  {
   "cell_type": "code",
   "execution_count": 551,
   "id": "77bed173",
   "metadata": {},
   "outputs": [
    {
     "data": {
      "image/png": "[encoded data removed]",
      "text/plain": [
       "<Figure size 1080x720 with 1 Axes>"
      ]
     },
     "metadata": {},
     "output_type": "display_data"
    }
   ],
   "source": [
    "plt.figure(3, figsize=(15,10))\n",
    "shooting_data.threat_level.value_counts().plot.pie(\n",
    "    title=('Visual expression of Threat Level'),autopct=\"%.1f%%\", ylabel=(''))\n",
    "plt.show()"
   ]
  },
  {
   "cell_type": "markdown",
   "id": "cd2adce9",
   "metadata": {},
   "source": [
    "# Pie chart of people fleeing"
   ]
  },
  {
   "cell_type": "code",
   "execution_count": 552,
   "id": "a6d4b04d",
   "metadata": {},
   "outputs": [
    {
     "data": {
      "image/png": "[encoded data removed]",
      "text/plain": [
       "<Figure size 1080x720 with 1 Axes>"
      ]
     },
     "metadata": {},
     "output_type": "display_data"
    }
   ],
   "source": [
    "plt.figure(4, figsize=(15,10))\n",
    "shooting_data.flee.value_counts().plot.pie(\n",
    "    title=('Visual expression of fleeing'),autopct=\"%.1f%%\",\n",
    "    ylabel=(''))\n",
    "plt.show()"
   ]
  },
  {
   "cell_type": "markdown",
   "id": "0d925636",
   "metadata": {},
   "source": [
    "# Police officers using body camera and not using it"
   ]
  },
  {
   "cell_type": "code",
   "execution_count": 553,
   "id": "13584ad3",
   "metadata": {},
   "outputs": [
    {
     "data": {
      "image/png": "[encoded data removed]",
      "text/plain": [
       "<Figure size 1080x720 with 1 Axes>"
      ]
     },
     "metadata": {},
     "output_type": "display_data"
    }
   ],
   "source": [
    "plt.figure(5, figsize=(15,10))\n",
    "shooting_data.body_camera.value_counts().plot.pie(\n",
    "    title=('Visual expression of Bodycamera usage'),autopct=\"%.1f%%\",\n",
    "    ylabel=(''))\n",
    "\n",
    "plt.show()"
   ]
  },
  {
   "cell_type": "markdown",
   "id": "c816fa55",
   "metadata": {},
   "source": [
    "# Any relation between signs of mental ilness and attacking officers ?"
   ]
  },
  {
   "cell_type": "code",
   "execution_count": 11,
   "id": "f17deee0",
   "metadata": {},
   "outputs": [],
   "source": [
    "mental_attack = ((shooting_data['signs_of_mental_illness'] == True) & (shooting_data['threat_level'] == 'attack')).sum()"
   ]
  },
  {
   "cell_type": "code",
   "execution_count": 566,
   "id": "6414f2f4",
   "metadata": {},
   "outputs": [
    {
     "data": {
      "text/plain": [
       "attack          0.654582\n",
       "other           0.291037\n",
       "undetermined    0.054381\n",
       "Name: threat_level, dtype: float64"
      ]
     },
     "execution_count": 566,
     "metadata": {},
     "output_type": "execute_result"
    }
   ],
   "source": [
    "shooting_data.threat_level.value_counts(normalize = True)"
   ]
  },
  {
   "cell_type": "code",
   "execution_count": 13,
   "id": "113fb98c",
   "metadata": {},
   "outputs": [],
   "source": [
    "all_attacks = (shooting_data.threat_level == 'attack').sum()"
   ]
  },
  {
   "cell_type": "code",
   "execution_count": 15,
   "id": "0ae1c6d5",
   "metadata": {},
   "outputs": [
    {
     "data": {
      "text/plain": [
       "0.24"
      ]
     },
     "execution_count": 15,
     "metadata": {},
     "output_type": "execute_result"
    }
   ],
   "source": [
    "round(mental_attack/all_attacks, 2)"
   ]
  },
  {
   "cell_type": "code",
   "execution_count": 557,
   "id": "e8fcb5b3",
   "metadata": {},
   "outputs": [
    {
     "data": {
      "text/plain": [
       "array(['gun', 'unarmed', 'toy weapon', 'nail gun', 'knife', 'vehicle',\n",
       "       'shovel', 'hammer', 'hatchet', 'undetermined', 'sword', 'machete',\n",
       "       'box cutter', 'metal object', 'screwdriver', 'lawn mower blade',\n",
       "       'flagpole', 'guns and explosives', 'cordless drill', 'crossbow',\n",
       "       'metal pole', 'Taser', 'metal pipe', 'metal hand tool',\n",
       "       'blunt object', 'metal stick', 'sharp object', 'meat cleaver', nan,\n",
       "       'carjack', 'chain', \"contractor's level\", 'unknown weapon',\n",
       "       'stapler', 'beer bottle', 'bean-bag gun',\n",
       "       'baseball bat and fireplace poker', 'straight edge razor',\n",
       "       'gun and knife', 'ax', 'brick', 'baseball bat', 'hand torch',\n",
       "       'chain saw', 'garden tool', 'scissors', 'pole', 'pick-axe',\n",
       "       'flashlight', 'baton', 'spear', 'pitchfork', 'hatchet and gun',\n",
       "       'rock', 'piece of wood', 'bayonet', 'pipe', 'glass shard',\n",
       "       'motorcycle', 'metal rake', 'crowbar', 'oar', 'machete and gun',\n",
       "       'tire iron', 'pole and knife'], dtype=object)"
      ]
     },
     "execution_count": 557,
     "metadata": {},
     "output_type": "execute_result"
    }
   ],
   "source": [
    "shooting_data.armed.unique()"
   ]
  },
  {
   "cell_type": "markdown",
   "id": "2d158e73",
   "metadata": {},
   "source": [
    "**Favorite weapons of mine must be rock, piece of wood and a spear shows the progression of the modern man**"
   ]
  },
  {
   "cell_type": "code",
   "execution_count": 318,
   "id": "1623e08c",
   "metadata": {},
   "outputs": [
    {
     "data": {
      "text/plain": [
       "gun               1094\n",
       "knife              290\n",
       "unarmed            151\n",
       "vehicle            128\n",
       "toy weapon          90\n",
       "undetermined        90\n",
       "machete             15\n",
       "unknown weapon      11\n",
       "sword                8\n",
       "hammer               7\n",
       "Name: armed, dtype: int64"
      ]
     },
     "execution_count": 318,
     "metadata": {},
     "output_type": "execute_result"
    }
   ],
   "source": [
    "shooting_data.armed.value_counts(ascending = False)\n",
    "frequent_weapons = shooting_data.armed.value_counts(ascending = False).head(10)\n",
    "frequent_weapons"
   ]
  },
  {
   "cell_type": "code",
   "execution_count": 560,
   "id": "88f8b849",
   "metadata": {},
   "outputs": [
    {
     "data": {
      "text/plain": [
       "gun                    0.550856\n",
       "knife                  0.146022\n",
       "unarmed                0.076032\n",
       "vehicle                0.064451\n",
       "toy weapon             0.045317\n",
       "                         ...   \n",
       "hatchet and gun        0.000504\n",
       "beer bottle            0.000504\n",
       "straight edge razor    0.000504\n",
       "cordless drill         0.000504\n",
       "pick-axe               0.000504\n",
       "Name: armed, Length: 61, dtype: float64"
      ]
     },
     "execution_count": 560,
     "metadata": {},
     "output_type": "execute_result"
    }
   ],
   "source": [
    "shooting_data.armed.value_counts(ascending = False, normalize = True)"
   ]
  },
  {
   "cell_type": "markdown",
   "id": "3d755ea9",
   "metadata": {},
   "source": [
    "**As we can see 55% of the armed people had a gun a more interesting metric in this dataset would be too see what kind of gun they had assault rifle or pistol**"
   ]
  },
  {
   "cell_type": "markdown",
   "id": "87e4abce",
   "metadata": {},
   "source": [
    "# Performing K-Means on data"
   ]
  },
  {
   "cell_type": "code",
   "execution_count": 261,
   "id": "1c130ac3",
   "metadata": {},
   "outputs": [
    {
     "data": {
      "text/html": [
       "<div>\n",
       "<style scoped>\n",
       "    .dataframe tbody tr th:only-of-type {\n",
       "        vertical-align: middle;\n",
       "    }\n",
       "\n",
       "    .dataframe tbody tr th {\n",
       "        vertical-align: top;\n",
       "    }\n",
       "\n",
       "    .dataframe thead th {\n",
       "        text-align: right;\n",
       "    }\n",
       "</style>\n",
       "<table border=\"1\" class=\"dataframe\">\n",
       "  <thead>\n",
       "    <tr style=\"text-align: right;\">\n",
       "      <th></th>\n",
       "      <th>signs_of_mental_illness</th>\n",
       "      <th>manner_of_death_shot</th>\n",
       "      <th>manner_of_death_shot and Tasered</th>\n",
       "      <th>armed_Taser</th>\n",
       "      <th>armed_ax</th>\n",
       "      <th>armed_baseball bat</th>\n",
       "      <th>armed_baseball bat and fireplace poker</th>\n",
       "      <th>armed_baton</th>\n",
       "      <th>armed_bayonet</th>\n",
       "      <th>armed_bean-bag gun</th>\n",
       "      <th>...</th>\n",
       "      <th>race_H</th>\n",
       "      <th>race_N</th>\n",
       "      <th>race_O</th>\n",
       "      <th>race_W</th>\n",
       "      <th>flee_Car</th>\n",
       "      <th>flee_Foot</th>\n",
       "      <th>flee_Not fleeing</th>\n",
       "      <th>flee_Other</th>\n",
       "      <th>gender_F</th>\n",
       "      <th>gender_M</th>\n",
       "    </tr>\n",
       "    <tr>\n",
       "      <th>id</th>\n",
       "      <th></th>\n",
       "      <th></th>\n",
       "      <th></th>\n",
       "      <th></th>\n",
       "      <th></th>\n",
       "      <th></th>\n",
       "      <th></th>\n",
       "      <th></th>\n",
       "      <th></th>\n",
       "      <th></th>\n",
       "      <th></th>\n",
       "      <th></th>\n",
       "      <th></th>\n",
       "      <th></th>\n",
       "      <th></th>\n",
       "      <th></th>\n",
       "      <th></th>\n",
       "      <th></th>\n",
       "      <th></th>\n",
       "      <th></th>\n",
       "      <th></th>\n",
       "    </tr>\n",
       "  </thead>\n",
       "  <tbody>\n",
       "    <tr>\n",
       "      <th>3</th>\n",
       "      <td>True</td>\n",
       "      <td>1</td>\n",
       "      <td>0</td>\n",
       "      <td>0</td>\n",
       "      <td>0</td>\n",
       "      <td>0</td>\n",
       "      <td>0</td>\n",
       "      <td>0</td>\n",
       "      <td>0</td>\n",
       "      <td>0</td>\n",
       "      <td>...</td>\n",
       "      <td>0</td>\n",
       "      <td>0</td>\n",
       "      <td>0</td>\n",
       "      <td>0</td>\n",
       "      <td>0</td>\n",
       "      <td>0</td>\n",
       "      <td>1</td>\n",
       "      <td>0</td>\n",
       "      <td>0</td>\n",
       "      <td>1</td>\n",
       "    </tr>\n",
       "    <tr>\n",
       "      <th>4</th>\n",
       "      <td>False</td>\n",
       "      <td>1</td>\n",
       "      <td>0</td>\n",
       "      <td>0</td>\n",
       "      <td>0</td>\n",
       "      <td>0</td>\n",
       "      <td>0</td>\n",
       "      <td>0</td>\n",
       "      <td>0</td>\n",
       "      <td>0</td>\n",
       "      <td>...</td>\n",
       "      <td>0</td>\n",
       "      <td>0</td>\n",
       "      <td>0</td>\n",
       "      <td>1</td>\n",
       "      <td>0</td>\n",
       "      <td>0</td>\n",
       "      <td>1</td>\n",
       "      <td>0</td>\n",
       "      <td>0</td>\n",
       "      <td>1</td>\n",
       "    </tr>\n",
       "    <tr>\n",
       "      <th>5</th>\n",
       "      <td>False</td>\n",
       "      <td>0</td>\n",
       "      <td>1</td>\n",
       "      <td>0</td>\n",
       "      <td>0</td>\n",
       "      <td>0</td>\n",
       "      <td>0</td>\n",
       "      <td>0</td>\n",
       "      <td>0</td>\n",
       "      <td>0</td>\n",
       "      <td>...</td>\n",
       "      <td>1</td>\n",
       "      <td>0</td>\n",
       "      <td>0</td>\n",
       "      <td>0</td>\n",
       "      <td>0</td>\n",
       "      <td>0</td>\n",
       "      <td>1</td>\n",
       "      <td>0</td>\n",
       "      <td>0</td>\n",
       "      <td>1</td>\n",
       "    </tr>\n",
       "    <tr>\n",
       "      <th>8</th>\n",
       "      <td>True</td>\n",
       "      <td>1</td>\n",
       "      <td>0</td>\n",
       "      <td>0</td>\n",
       "      <td>0</td>\n",
       "      <td>0</td>\n",
       "      <td>0</td>\n",
       "      <td>0</td>\n",
       "      <td>0</td>\n",
       "      <td>0</td>\n",
       "      <td>...</td>\n",
       "      <td>0</td>\n",
       "      <td>0</td>\n",
       "      <td>0</td>\n",
       "      <td>1</td>\n",
       "      <td>0</td>\n",
       "      <td>0</td>\n",
       "      <td>1</td>\n",
       "      <td>0</td>\n",
       "      <td>0</td>\n",
       "      <td>1</td>\n",
       "    </tr>\n",
       "    <tr>\n",
       "      <th>9</th>\n",
       "      <td>False</td>\n",
       "      <td>1</td>\n",
       "      <td>0</td>\n",
       "      <td>0</td>\n",
       "      <td>0</td>\n",
       "      <td>0</td>\n",
       "      <td>0</td>\n",
       "      <td>0</td>\n",
       "      <td>0</td>\n",
       "      <td>0</td>\n",
       "      <td>...</td>\n",
       "      <td>1</td>\n",
       "      <td>0</td>\n",
       "      <td>0</td>\n",
       "      <td>0</td>\n",
       "      <td>0</td>\n",
       "      <td>0</td>\n",
       "      <td>1</td>\n",
       "      <td>0</td>\n",
       "      <td>0</td>\n",
       "      <td>1</td>\n",
       "    </tr>\n",
       "    <tr>\n",
       "      <th>...</th>\n",
       "      <td>...</td>\n",
       "      <td>...</td>\n",
       "      <td>...</td>\n",
       "      <td>...</td>\n",
       "      <td>...</td>\n",
       "      <td>...</td>\n",
       "      <td>...</td>\n",
       "      <td>...</td>\n",
       "      <td>...</td>\n",
       "      <td>...</td>\n",
       "      <td>...</td>\n",
       "      <td>...</td>\n",
       "      <td>...</td>\n",
       "      <td>...</td>\n",
       "      <td>...</td>\n",
       "      <td>...</td>\n",
       "      <td>...</td>\n",
       "      <td>...</td>\n",
       "      <td>...</td>\n",
       "      <td>...</td>\n",
       "      <td>...</td>\n",
       "    </tr>\n",
       "    <tr>\n",
       "      <th>2382</th>\n",
       "      <td>False</td>\n",
       "      <td>1</td>\n",
       "      <td>0</td>\n",
       "      <td>0</td>\n",
       "      <td>0</td>\n",
       "      <td>0</td>\n",
       "      <td>0</td>\n",
       "      <td>0</td>\n",
       "      <td>0</td>\n",
       "      <td>0</td>\n",
       "      <td>...</td>\n",
       "      <td>0</td>\n",
       "      <td>0</td>\n",
       "      <td>0</td>\n",
       "      <td>1</td>\n",
       "      <td>1</td>\n",
       "      <td>0</td>\n",
       "      <td>0</td>\n",
       "      <td>0</td>\n",
       "      <td>0</td>\n",
       "      <td>1</td>\n",
       "    </tr>\n",
       "    <tr>\n",
       "      <th>2378</th>\n",
       "      <td>True</td>\n",
       "      <td>1</td>\n",
       "      <td>0</td>\n",
       "      <td>0</td>\n",
       "      <td>0</td>\n",
       "      <td>0</td>\n",
       "      <td>0</td>\n",
       "      <td>0</td>\n",
       "      <td>0</td>\n",
       "      <td>0</td>\n",
       "      <td>...</td>\n",
       "      <td>0</td>\n",
       "      <td>0</td>\n",
       "      <td>0</td>\n",
       "      <td>1</td>\n",
       "      <td>0</td>\n",
       "      <td>1</td>\n",
       "      <td>0</td>\n",
       "      <td>0</td>\n",
       "      <td>0</td>\n",
       "      <td>1</td>\n",
       "    </tr>\n",
       "    <tr>\n",
       "      <th>2391</th>\n",
       "      <td>False</td>\n",
       "      <td>1</td>\n",
       "      <td>0</td>\n",
       "      <td>0</td>\n",
       "      <td>0</td>\n",
       "      <td>0</td>\n",
       "      <td>0</td>\n",
       "      <td>0</td>\n",
       "      <td>0</td>\n",
       "      <td>0</td>\n",
       "      <td>...</td>\n",
       "      <td>0</td>\n",
       "      <td>0</td>\n",
       "      <td>0</td>\n",
       "      <td>1</td>\n",
       "      <td>0</td>\n",
       "      <td>0</td>\n",
       "      <td>1</td>\n",
       "      <td>0</td>\n",
       "      <td>0</td>\n",
       "      <td>1</td>\n",
       "    </tr>\n",
       "    <tr>\n",
       "      <th>2393</th>\n",
       "      <td>False</td>\n",
       "      <td>1</td>\n",
       "      <td>0</td>\n",
       "      <td>0</td>\n",
       "      <td>0</td>\n",
       "      <td>0</td>\n",
       "      <td>0</td>\n",
       "      <td>0</td>\n",
       "      <td>0</td>\n",
       "      <td>0</td>\n",
       "      <td>...</td>\n",
       "      <td>0</td>\n",
       "      <td>0</td>\n",
       "      <td>0</td>\n",
       "      <td>0</td>\n",
       "      <td>0</td>\n",
       "      <td>0</td>\n",
       "      <td>1</td>\n",
       "      <td>0</td>\n",
       "      <td>0</td>\n",
       "      <td>1</td>\n",
       "    </tr>\n",
       "    <tr>\n",
       "      <th>2394</th>\n",
       "      <td>False</td>\n",
       "      <td>1</td>\n",
       "      <td>0</td>\n",
       "      <td>0</td>\n",
       "      <td>0</td>\n",
       "      <td>0</td>\n",
       "      <td>0</td>\n",
       "      <td>0</td>\n",
       "      <td>0</td>\n",
       "      <td>0</td>\n",
       "      <td>...</td>\n",
       "      <td>0</td>\n",
       "      <td>0</td>\n",
       "      <td>0</td>\n",
       "      <td>0</td>\n",
       "      <td>0</td>\n",
       "      <td>1</td>\n",
       "      <td>0</td>\n",
       "      <td>0</td>\n",
       "      <td>0</td>\n",
       "      <td>1</td>\n",
       "    </tr>\n",
       "  </tbody>\n",
       "</table>\n",
       "<p>1986 rows × 76 columns</p>\n",
       "</div>"
      ],
      "text/plain": [
       "      signs_of_mental_illness  manner_of_death_shot  \\\n",
       "id                                                    \n",
       "3                        True                     1   \n",
       "4                       False                     1   \n",
       "5                       False                     0   \n",
       "8                        True                     1   \n",
       "9                       False                     1   \n",
       "...                       ...                   ...   \n",
       "2382                    False                     1   \n",
       "2378                     True                     1   \n",
       "2391                    False                     1   \n",
       "2393                    False                     1   \n",
       "2394                    False                     1   \n",
       "\n",
       "      manner_of_death_shot and Tasered  armed_Taser  armed_ax  \\\n",
       "id                                                              \n",
       "3                                    0            0         0   \n",
       "4                                    0            0         0   \n",
       "5                                    1            0         0   \n",
       "8                                    0            0         0   \n",
       "9                                    0            0         0   \n",
       "...                                ...          ...       ...   \n",
       "2382                                 0            0         0   \n",
       "2378                                 0            0         0   \n",
       "2391                                 0            0         0   \n",
       "2393                                 0            0         0   \n",
       "2394                                 0            0         0   \n",
       "\n",
       "      armed_baseball bat  armed_baseball bat and fireplace poker  armed_baton  \\\n",
       "id                                                                              \n",
       "3                      0                                       0            0   \n",
       "4                      0                                       0            0   \n",
       "5                      0                                       0            0   \n",
       "8                      0                                       0            0   \n",
       "9                      0                                       0            0   \n",
       "...                  ...                                     ...          ...   \n",
       "2382                   0                                       0            0   \n",
       "2378                   0                                       0            0   \n",
       "2391                   0                                       0            0   \n",
       "2393                   0                                       0            0   \n",
       "2394                   0                                       0            0   \n",
       "\n",
       "      armed_bayonet  armed_bean-bag gun  ...  race_H  race_N  race_O  race_W  \\\n",
       "id                                       ...                                   \n",
       "3                 0                   0  ...       0       0       0       0   \n",
       "4                 0                   0  ...       0       0       0       1   \n",
       "5                 0                   0  ...       1       0       0       0   \n",
       "8                 0                   0  ...       0       0       0       1   \n",
       "9                 0                   0  ...       1       0       0       0   \n",
       "...             ...                 ...  ...     ...     ...     ...     ...   \n",
       "2382              0                   0  ...       0       0       0       1   \n",
       "2378              0                   0  ...       0       0       0       1   \n",
       "2391              0                   0  ...       0       0       0       1   \n",
       "2393              0                   0  ...       0       0       0       0   \n",
       "2394              0                   0  ...       0       0       0       0   \n",
       "\n",
       "      flee_Car  flee_Foot  flee_Not fleeing  flee_Other  gender_F  gender_M  \n",
       "id                                                                           \n",
       "3            0          0                 1           0         0         1  \n",
       "4            0          0                 1           0         0         1  \n",
       "5            0          0                 1           0         0         1  \n",
       "8            0          0                 1           0         0         1  \n",
       "9            0          0                 1           0         0         1  \n",
       "...        ...        ...               ...         ...       ...       ...  \n",
       "2382         1          0                 0           0         0         1  \n",
       "2378         0          1                 0           0         0         1  \n",
       "2391         0          0                 1           0         0         1  \n",
       "2393         0          0                 1           0         0         1  \n",
       "2394         0          1                 0           0         0         1  \n",
       "\n",
       "[1986 rows x 76 columns]"
      ]
     },
     "execution_count": 261,
     "metadata": {},
     "output_type": "execute_result"
    }
   ],
   "source": [
    "# Encoding string data to numeric for clustering\n",
    "X = pd.get_dummies(\n",
    "    shooting_data.filter(\n",
    "        [\n",
    "            \"manner_of_death\",\n",
    "            \"signs_of_mental_illness\",\n",
    "            \"armed\",\n",
    "            \"race\",\n",
    "            \"flee\",\n",
    "            \"gender\",\n",
    "        ]\n",
    "    )\n",
    ")\n",
    "X"
   ]
  },
  {
   "cell_type": "code",
   "execution_count": 415,
   "id": "d0922b23",
   "metadata": {},
   "outputs": [
    {
     "data": {
      "image/png": "[encoded data removed]",
      "text/plain": [
       "<Figure size 864x576 with 1 Axes>"
      ]
     },
     "metadata": {},
     "output_type": "display_data"
    }
   ],
   "source": [
    "from sklearn.cluster import KMeans\n",
    "Sum_of_squared_distances = []\n",
    "K = range(1, 11)\n",
    "for k in K:\n",
    "    km = KMeans(n_clusters=k)\n",
    "    km = km.fit(X)\n",
    "    Sum_of_squared_distances.append(km.inertia_)\n",
    "\n",
    "\n",
    "# Plotting the sum of square distances by k to find optimal k\n",
    "plt.grid()\n",
    "plt.xticks(range(10))\n",
    "plt.plot(K, Sum_of_squared_distances, \"bx-\")\n",
    "plt.xlabel(\"k\")\n",
    "plt.ylabel(\"Sum of squared distances\")\n",
    "plt.title(\"Elbow Method For Optimal k\")\n",
    "plt.scatter(9, Sum_of_squared_distances[8], color=\"r\")\n",
    "plt.show()"
   ]
  },
  {
   "cell_type": "markdown",
   "id": "e38f897b",
   "metadata": {},
   "source": [
    "# GeoMap of shootings"
   ]
  },
  {
   "cell_type": "code",
   "execution_count": 8,
   "id": "d44ddad9",
   "metadata": {},
   "outputs": [
    {
     "data": {
      "text/html": [
       "<div>\n",
       "<style scoped>\n",
       "    .dataframe tbody tr th:only-of-type {\n",
       "        vertical-align: middle;\n",
       "    }\n",
       "\n",
       "    .dataframe tbody tr th {\n",
       "        vertical-align: top;\n",
       "    }\n",
       "\n",
       "    .dataframe thead th {\n",
       "        text-align: right;\n",
       "    }\n",
       "</style>\n",
       "<table border=\"1\" class=\"dataframe\">\n",
       "  <thead>\n",
       "    <tr style=\"text-align: right;\">\n",
       "      <th></th>\n",
       "      <th>state</th>\n",
       "      <th>name</th>\n",
       "    </tr>\n",
       "  </thead>\n",
       "  <tbody>\n",
       "    <tr>\n",
       "      <th>4</th>\n",
       "      <td>CA</td>\n",
       "      <td>320</td>\n",
       "    </tr>\n",
       "    <tr>\n",
       "      <th>43</th>\n",
       "      <td>TX</td>\n",
       "      <td>183</td>\n",
       "    </tr>\n",
       "    <tr>\n",
       "      <th>9</th>\n",
       "      <td>FL</td>\n",
       "      <td>121</td>\n",
       "    </tr>\n",
       "    <tr>\n",
       "      <th>3</th>\n",
       "      <td>AZ</td>\n",
       "      <td>89</td>\n",
       "    </tr>\n",
       "    <tr>\n",
       "      <th>27</th>\n",
       "      <td>NC</td>\n",
       "      <td>63</td>\n",
       "    </tr>\n",
       "    <tr>\n",
       "      <th>35</th>\n",
       "      <td>OH</td>\n",
       "      <td>59</td>\n",
       "    </tr>\n",
       "    <tr>\n",
       "      <th>5</th>\n",
       "      <td>CO</td>\n",
       "      <td>59</td>\n",
       "    </tr>\n",
       "    <tr>\n",
       "      <th>10</th>\n",
       "      <td>GA</td>\n",
       "      <td>56</td>\n",
       "    </tr>\n",
       "    <tr>\n",
       "      <th>36</th>\n",
       "      <td>OK</td>\n",
       "      <td>54</td>\n",
       "    </tr>\n",
       "    <tr>\n",
       "      <th>24</th>\n",
       "      <td>MO</td>\n",
       "      <td>50</td>\n",
       "    </tr>\n",
       "  </tbody>\n",
       "</table>\n",
       "</div>"
      ],
      "text/plain": [
       "   state  name\n",
       "4     CA   320\n",
       "43    TX   183\n",
       "9     FL   121\n",
       "3     AZ    89\n",
       "27    NC    63\n",
       "35    OH    59\n",
       "5     CO    59\n",
       "10    GA    56\n",
       "36    OK    54\n",
       "24    MO    50"
      ]
     },
     "execution_count": 8,
     "metadata": {},
     "output_type": "execute_result"
    }
   ],
   "source": [
    "states = shooting_data.groupby('state').agg({'name':'count'}).reset_index().sort_values(by = ['name'], ascending = False)\n",
    "states.head(10)"
   ]
  },
  {
   "cell_type": "code",
   "execution_count": 9,
   "id": "ba2f0270",
   "metadata": {},
   "outputs": [
    {
     "data": {
      "application/vnd.plotly.v1+json": {
       "config": {
        "plotlyServerURL": "https://plot.ly"
       },
       "data": [
        {
         "coloraxis": "coloraxis",
         "geo": "geo",
         "hovertemplate": "<b>%{hovertext}</b><br><br>state=%{location}<br>name=%{z}<extra></extra>",
         "hovertext": [
          "CA",
          "TX",
          "FL",
          "AZ",
          "NC",
          "OH",
          "CO",
          "GA",
          "OK",
          "MO",
          "IL",
          "TN",
          "WA",
          "AL",
          "LA",
          "NY",
          "NM",
          "PA",
          "VA",
          "SC",
          "IN",
          "KY",
          "MD",
          "NV",
          "WI",
          "MI",
          "MN",
          "OR",
          "NJ",
          "UT",
          "MA",
          "KS",
          "WV",
          "MS",
          "AR",
          "NE",
          "ID",
          "AK",
          "IA",
          "HI",
          "DC",
          "MT",
          "SD",
          "WY",
          "ME",
          "CT",
          "NH",
          "DE",
          "ND",
          "VT",
          "RI"
         ],
         "locationmode": "USA-states",
         "locations": [
          "CA",
          "TX",
          "FL",
          "AZ",
          "NC",
          "OH",
          "CO",
          "GA",
          "OK",
          "MO",
          "IL",
          "TN",
          "WA",
          "AL",
          "LA",
          "NY",
          "NM",
          "PA",
          "VA",
          "SC",
          "IN",
          "KY",
          "MD",
          "NV",
          "WI",
          "MI",
          "MN",
          "OR",
          "NJ",
          "UT",
          "MA",
          "KS",
          "WV",
          "MS",
          "AR",
          "NE",
          "ID",
          "AK",
          "IA",
          "HI",
          "DC",
          "MT",
          "SD",
          "WY",
          "ME",
          "CT",
          "NH",
          "DE",
          "ND",
          "VT",
          "RI"
         ],
         "name": "",
         "type": "choropleth",
         "z": [
          320,
          183,
          121,
          89,
          63,
          59,
          59,
          56,
          54,
          50,
          49,
          45,
          45,
          42,
          42,
          40,
          40,
          39,
          37,
          37,
          35,
          35,
          32,
          31,
          31,
          31,
          28,
          28,
          27,
          21,
          21,
          20,
          20,
          18,
          17,
          14,
          13,
          11,
          10,
          10,
          10,
          9,
          7,
          7,
          6,
          6,
          5,
          5,
          3,
          3,
          2
         ]
        }
       ],
       "layout": {
        "coloraxis": {
         "colorbar": {
          "title": {
           "text": "name"
          }
         },
         "colorscale": [
          [
           0,
           "#0d0887"
          ],
          [
           0.1111111111111111,
           "#46039f"
          ],
          [
           0.2222222222222222,
           "#7201a8"
          ],
          [
           0.3333333333333333,
           "#9c179e"
          ],
          [
           0.4444444444444444,
           "#bd3786"
          ],
          [
           0.5555555555555556,
           "#d8576b"
          ],
          [
           0.6666666666666666,
           "#ed7953"
          ],
          [
           0.7777777777777778,
           "#fb9f3a"
          ],
          [
           0.8888888888888888,
           "#fdca26"
          ],
          [
           1,
           "#f0f921"
          ]
         ]
        },
        "geo": {
         "center": {},
         "domain": {
          "x": [
           0,
           1
          ],
          "y": [
           0,
           1
          ]
         },
         "scope": "usa"
        },
        "legend": {
         "tracegroupgap": 0
        },
        "margin": {
         "t": 60
        },
        "template": {
         "data": {
          "bar": [
           {
            "error_x": {
             "color": "#2a3f5f"
            },
            "error_y": {
             "color": "#2a3f5f"
            },
            "marker": {
             "line": {
              "color": "#E5ECF6",
              "width": 0.5
             },
             "pattern": {
              "fillmode": "overlay",
              "size": 10,
              "solidity": 0.2
             }
            },
            "type": "bar"
           }
          ],
          "barpolar": [
           {
            "marker": {
             "line": {
              "color": "#E5ECF6",
              "width": 0.5
             },
             "pattern": {
              "fillmode": "overlay",
              "size": 10,
              "solidity": 0.2
             }
            },
            "type": "barpolar"
           }
          ],
          "carpet": [
           {
            "aaxis": {
             "endlinecolor": "#2a3f5f",
             "gridcolor": "white",
             "linecolor": "white",
             "minorgridcolor": "white",
             "startlinecolor": "#2a3f5f"
            },
            "baxis": {
             "endlinecolor": "#2a3f5f",
             "gridcolor": "white",
             "linecolor": "white",
             "minorgridcolor": "white",
             "startlinecolor": "#2a3f5f"
            },
            "type": "carpet"
           }
          ],
          "choropleth": [
           {
            "colorbar": {
             "outlinewidth": 0,
             "ticks": ""
            },
            "type": "choropleth"
           }
          ],
          "contour": [
           {
            "colorbar": {
             "outlinewidth": 0,
             "ticks": ""
            },
            "colorscale": [
             [
              0,
              "#0d0887"
             ],
             [
              0.1111111111111111,
              "#46039f"
             ],
             [
              0.2222222222222222,
              "#7201a8"
             ],
             [
              0.3333333333333333,
              "#9c179e"
             ],
             [
              0.4444444444444444,
              "#bd3786"
             ],
             [
              0.5555555555555556,
              "#d8576b"
             ],
             [
              0.6666666666666666,
              "#ed7953"
             ],
             [
              0.7777777777777778,
              "#fb9f3a"
             ],
             [
              0.8888888888888888,
              "#fdca26"
             ],
             [
              1,
              "#f0f921"
             ]
            ],
            "type": "contour"
           }
          ],
          "contourcarpet": [
           {
            "colorbar": {
             "outlinewidth": 0,
             "ticks": ""
            },
            "type": "contourcarpet"
           }
          ],
          "heatmap": [
           {
            "colorbar": {
             "outlinewidth": 0,
             "ticks": ""
            },
            "colorscale": [
             [
              0,
              "#0d0887"
             ],
             [
              0.1111111111111111,
              "#46039f"
             ],
             [
              0.2222222222222222,
              "#7201a8"
             ],
             [
              0.3333333333333333,
              "#9c179e"
             ],
             [
              0.4444444444444444,
              "#bd3786"
             ],
             [
              0.5555555555555556,
              "#d8576b"
             ],
             [
              0.6666666666666666,
              "#ed7953"
             ],
             [
              0.7777777777777778,
              "#fb9f3a"
             ],
             [
              0.8888888888888888,
              "#fdca26"
             ],
             [
              1,
              "#f0f921"
             ]
            ],
            "type": "heatmap"
           }
          ],
          "heatmapgl": [
           {
            "colorbar": {
             "outlinewidth": 0,
             "ticks": ""
            },
            "colorscale": [
             [
              0,
              "#0d0887"
             ],
             [
              0.1111111111111111,
              "#46039f"
             ],
             [
              0.2222222222222222,
              "#7201a8"
             ],
             [
              0.3333333333333333,
              "#9c179e"
             ],
             [
              0.4444444444444444,
              "#bd3786"
             ],
             [
              0.5555555555555556,
              "#d8576b"
             ],
             [
              0.6666666666666666,
              "#ed7953"
             ],
             [
              0.7777777777777778,
              "#fb9f3a"
             ],
             [
              0.8888888888888888,
              "#fdca26"
             ],
             [
              1,
              "#f0f921"
             ]
            ],
            "type": "heatmapgl"
           }
          ],
          "histogram": [
           {
            "marker": {
             "pattern": {
              "fillmode": "overlay",
              "size": 10,
              "solidity": 0.2
             }
            },
            "type": "histogram"
           }
          ],
          "histogram2d": [
           {
            "colorbar": {
             "outlinewidth": 0,
             "ticks": ""
            },
            "colorscale": [
             [
              0,
              "#0d0887"
             ],
             [
              0.1111111111111111,
              "#46039f"
             ],
             [
              0.2222222222222222,
              "#7201a8"
             ],
             [
              0.3333333333333333,
              "#9c179e"
             ],
             [
              0.4444444444444444,
              "#bd3786"
             ],
             [
              0.5555555555555556,
              "#d8576b"
             ],
             [
              0.6666666666666666,
              "#ed7953"
             ],
             [
              0.7777777777777778,
              "#fb9f3a"
             ],
             [
              0.8888888888888888,
              "#fdca26"
             ],
             [
              1,
              "#f0f921"
             ]
            ],
            "type": "histogram2d"
           }
          ],
          "histogram2dcontour": [
           {
            "colorbar": {
             "outlinewidth": 0,
             "ticks": ""
            },
            "colorscale": [
             [
              0,
              "#0d0887"
             ],
             [
              0.1111111111111111,
              "#46039f"
             ],
             [
              0.2222222222222222,
              "#7201a8"
             ],
             [
              0.3333333333333333,
              "#9c179e"
             ],
             [
              0.4444444444444444,
              "#bd3786"
             ],
             [
              0.5555555555555556,
              "#d8576b"
             ],
             [
              0.6666666666666666,
              "#ed7953"
             ],
             [
              0.7777777777777778,
              "#fb9f3a"
             ],
             [
              0.8888888888888888,
              "#fdca26"
             ],
             [
              1,
              "#f0f921"
             ]
            ],
            "type": "histogram2dcontour"
           }
          ],
          "mesh3d": [
           {
            "colorbar": {
             "outlinewidth": 0,
             "ticks": ""
            },
            "type": "mesh3d"
           }
          ],
          "parcoords": [
           {
            "line": {
             "colorbar": {
              "outlinewidth": 0,
              "ticks": ""
             }
            },
            "type": "parcoords"
           }
          ],
          "pie": [
           {
            "automargin": true,
            "type": "pie"
           }
          ],
          "scatter": [
           {
            "marker": {
             "colorbar": {
              "outlinewidth": 0,
              "ticks": ""
             }
            },
            "type": "scatter"
           }
          ],
          "scatter3d": [
           {
            "line": {
             "colorbar": {
              "outlinewidth": 0,
              "ticks": ""
             }
            },
            "marker": {
             "colorbar": {
              "outlinewidth": 0,
              "ticks": ""
             }
            },
            "type": "scatter3d"
           }
          ],
          "scattercarpet": [
           {
            "marker": {
             "colorbar": {
              "outlinewidth": 0,
              "ticks": ""
             }
            },
            "type": "scattercarpet"
           }
          ],
          "scattergeo": [
           {
            "marker": {
             "colorbar": {
              "outlinewidth": 0,
              "ticks": ""
             }
            },
            "type": "scattergeo"
           }
          ],
          "scattergl": [
           {
            "marker": {
             "colorbar": {
              "outlinewidth": 0,
              "ticks": ""
             }
            },
            "type": "scattergl"
           }
          ],
          "scattermapbox": [
           {
            "marker": {
             "colorbar": {
              "outlinewidth": 0,
              "ticks": ""
             }
            },
            "type": "scattermapbox"
           }
          ],
          "scatterpolar": [
           {
            "marker": {
             "colorbar": {
              "outlinewidth": 0,
              "ticks": ""
             }
            },
            "type": "scatterpolar"
           }
          ],
          "scatterpolargl": [
           {
            "marker": {
             "colorbar": {
              "outlinewidth": 0,
              "ticks": ""
             }
            },
            "type": "scatterpolargl"
           }
          ],
          "scatterternary": [
           {
            "marker": {
             "colorbar": {
              "outlinewidth": 0,
              "ticks": ""
             }
            },
            "type": "scatterternary"
           }
          ],
          "surface": [
           {
            "colorbar": {
             "outlinewidth": 0,
             "ticks": ""
            },
            "colorscale": [
             [
              0,
              "#0d0887"
             ],
             [
              0.1111111111111111,
              "#46039f"
             ],
             [
              0.2222222222222222,
              "#7201a8"
             ],
             [
              0.3333333333333333,
              "#9c179e"
             ],
             [
              0.4444444444444444,
              "#bd3786"
             ],
             [
              0.5555555555555556,
              "#d8576b"
             ],
             [
              0.6666666666666666,
              "#ed7953"
             ],
             [
              0.7777777777777778,
              "#fb9f3a"
             ],
             [
              0.8888888888888888,
              "#fdca26"
             ],
             [
              1,
              "#f0f921"
             ]
            ],
            "type": "surface"
           }
          ],
          "table": [
           {
            "cells": {
             "fill": {
              "color": "#EBF0F8"
             },
             "line": {
              "color": "white"
             }
            },
            "header": {
             "fill": {
              "color": "#C8D4E3"
             },
             "line": {
              "color": "white"
             }
            },
            "type": "table"
           }
          ]
         },
         "layout": {
          "annotationdefaults": {
           "arrowcolor": "#2a3f5f",
           "arrowhead": 0,
           "arrowwidth": 1
          },
          "autotypenumbers": "strict",
          "coloraxis": {
           "colorbar": {
            "outlinewidth": 0,
            "ticks": ""
           }
          },
          "colorscale": {
           "diverging": [
            [
             0,
             "#8e0152"
            ],
            [
             0.1,
             "#c51b7d"
            ],
            [
             0.2,
             "#de77ae"
            ],
            [
             0.3,
             "#f1b6da"
            ],
            [
             0.4,
             "#fde0ef"
            ],
            [
             0.5,
             "#f7f7f7"
            ],
            [
             0.6,
             "#e6f5d0"
            ],
            [
             0.7,
             "#b8e186"
            ],
            [
             0.8,
             "#7fbc41"
            ],
            [
             0.9,
             "#4d9221"
            ],
            [
             1,
             "#276419"
            ]
           ],
           "sequential": [
            [
             0,
             "#0d0887"
            ],
            [
             0.1111111111111111,
             "#46039f"
            ],
            [
             0.2222222222222222,
             "#7201a8"
            ],
            [
             0.3333333333333333,
             "#9c179e"
            ],
            [
             0.4444444444444444,
             "#bd3786"
            ],
            [
             0.5555555555555556,
             "#d8576b"
            ],
            [
             0.6666666666666666,
             "#ed7953"
            ],
            [
             0.7777777777777778,
             "#fb9f3a"
            ],
            [
             0.8888888888888888,
             "#fdca26"
            ],
            [
             1,
             "#f0f921"
            ]
           ],
           "sequentialminus": [
            [
             0,
             "#0d0887"
            ],
            [
             0.1111111111111111,
             "#46039f"
            ],
            [
             0.2222222222222222,
             "#7201a8"
            ],
            [
             0.3333333333333333,
             "#9c179e"
            ],
            [
             0.4444444444444444,
             "#bd3786"
            ],
            [
             0.5555555555555556,
             "#d8576b"
            ],
            [
             0.6666666666666666,
             "#ed7953"
            ],
            [
             0.7777777777777778,
             "#fb9f3a"
            ],
            [
             0.8888888888888888,
             "#fdca26"
            ],
            [
             1,
             "#f0f921"
            ]
           ]
          },
          "colorway": [
           "#636efa",
           "#EF553B",
           "#00cc96",
           "#ab63fa",
           "#FFA15A",
           "#19d3f3",
           "#FF6692",
           "#B6E880",
           "#FF97FF",
           "#FECB52"
          ],
          "font": {
           "color": "#2a3f5f"
          },
          "geo": {
           "bgcolor": "white",
           "lakecolor": "white",
           "landcolor": "#E5ECF6",
           "showlakes": true,
           "showland": true,
           "subunitcolor": "white"
          },
          "hoverlabel": {
           "align": "left"
          },
          "hovermode": "closest",
          "mapbox": {
           "style": "light"
          },
          "paper_bgcolor": "white",
          "plot_bgcolor": "#E5ECF6",
          "polar": {
           "angularaxis": {
            "gridcolor": "white",
            "linecolor": "white",
            "ticks": ""
           },
           "bgcolor": "#E5ECF6",
           "radialaxis": {
            "gridcolor": "white",
            "linecolor": "white",
            "ticks": ""
           }
          },
          "scene": {
           "xaxis": {
            "backgroundcolor": "#E5ECF6",
            "gridcolor": "white",
            "gridwidth": 2,
            "linecolor": "white",
            "showbackground": true,
            "ticks": "",
            "zerolinecolor": "white"
           },
           "yaxis": {
            "backgroundcolor": "#E5ECF6",
            "gridcolor": "white",
            "gridwidth": 2,
            "linecolor": "white",
            "showbackground": true,
            "ticks": "",
            "zerolinecolor": "white"
           },
           "zaxis": {
            "backgroundcolor": "#E5ECF6",
            "gridcolor": "white",
            "gridwidth": 2,
            "linecolor": "white",
            "showbackground": true,
            "ticks": "",
            "zerolinecolor": "white"
           }
          },
          "shapedefaults": {
           "line": {
            "color": "#2a3f5f"
           }
          },
          "ternary": {
           "aaxis": {
            "gridcolor": "white",
            "linecolor": "white",
            "ticks": ""
           },
           "baxis": {
            "gridcolor": "white",
            "linecolor": "white",
            "ticks": ""
           },
           "bgcolor": "#E5ECF6",
           "caxis": {
            "gridcolor": "white",
            "linecolor": "white",
            "ticks": ""
           }
          },
          "title": {
           "x": 0.05
          },
          "xaxis": {
           "automargin": true,
           "gridcolor": "white",
           "linecolor": "white",
           "ticks": "",
           "title": {
            "standoff": 15
           },
           "zerolinecolor": "white",
           "zerolinewidth": 2
          },
          "yaxis": {
           "automargin": true,
           "gridcolor": "white",
           "linecolor": "white",
           "ticks": "",
           "title": {
            "standoff": 15
           },
           "zerolinecolor": "white",
           "zerolinewidth": 2
          }
         }
        },
        "title": {
         "text": "Map Of Police Shootings In The US "
        }
       }
      },
      "text/html": [
       "<div>                            <div id=\"16f5e96f-659e-47a2-9801-1a1f92e4114b\" class=\"plotly-graph-div\" style=\"height:525px; width:100%;\"></div>            <script type=\"text/javascript\">                require([\"plotly\"], function(Plotly) {                    window.PLOTLYENV=window.PLOTLYENV || {};                                    if (document.getElementById(\"16f5e96f-659e-47a2-9801-1a1f92e4114b\")) {                    Plotly.newPlot(                        \"16f5e96f-659e-47a2-9801-1a1f92e4114b\",                        [{\"coloraxis\":\"coloraxis\",\"geo\":\"geo\",\"hovertemplate\":\"<b>%{hovertext}</b><br><br>state=%{location}<br>name=%{z}<extra></extra>\",\"hovertext\":[\"CA\",\"TX\",\"FL\",\"AZ\",\"NC\",\"OH\",\"CO\",\"GA\",\"OK\",\"MO\",\"IL\",\"TN\",\"WA\",\"AL\",\"LA\",\"NY\",\"NM\",\"PA\",\"VA\",\"SC\",\"IN\",\"KY\",\"MD\",\"NV\",\"WI\",\"MI\",\"MN\",\"OR\",\"NJ\",\"UT\",\"MA\",\"KS\",\"WV\",\"MS\",\"AR\",\"NE\",\"ID\",\"AK\",\"IA\",\"HI\",\"DC\",\"MT\",\"SD\",\"WY\",\"ME\",\"CT\",\"NH\",\"DE\",\"ND\",\"VT\",\"RI\"],\"locationmode\":\"USA-states\",\"locations\":[\"CA\",\"TX\",\"FL\",\"AZ\",\"NC\",\"OH\",\"CO\",\"GA\",\"OK\",\"MO\",\"IL\",\"TN\",\"WA\",\"AL\",\"LA\",\"NY\",\"NM\",\"PA\",\"VA\",\"SC\",\"IN\",\"KY\",\"MD\",\"NV\",\"WI\",\"MI\",\"MN\",\"OR\",\"NJ\",\"UT\",\"MA\",\"KS\",\"WV\",\"MS\",\"AR\",\"NE\",\"ID\",\"AK\",\"IA\",\"HI\",\"DC\",\"MT\",\"SD\",\"WY\",\"ME\",\"CT\",\"NH\",\"DE\",\"ND\",\"VT\",\"RI\"],\"name\":\"\",\"type\":\"choropleth\",\"z\":[320,183,121,89,63,59,59,56,54,50,49,45,45,42,42,40,40,39,37,37,35,35,32,31,31,31,28,28,27,21,21,20,20,18,17,14,13,11,10,10,10,9,7,7,6,6,5,5,3,3,2]}],                        {\"coloraxis\":{\"colorbar\":{\"title\":{\"text\":\"name\"}},\"colorscale\":[[0.0,\"#0d0887\"],[0.1111111111111111,\"#46039f\"],[0.2222222222222222,\"#7201a8\"],[0.3333333333333333,\"#9c179e\"],[0.4444444444444444,\"#bd3786\"],[0.5555555555555556,\"#d8576b\"],[0.6666666666666666,\"#ed7953\"],[0.7777777777777778,\"#fb9f3a\"],[0.8888888888888888,\"#fdca26\"],[1.0,\"#f0f921\"]]},\"geo\":{\"center\":{},\"domain\":{\"x\":[0.0,1.0],\"y\":[0.0,1.0]},\"scope\":\"usa\"},\"legend\":{\"tracegroupgap\":0},\"margin\":{\"t\":60},\"template\":{\"data\":{\"bar\":[{\"error_x\":{\"color\":\"#2a3f5f\"},\"error_y\":{\"color\":\"#2a3f5f\"},\"marker\":{\"line\":{\"color\":\"#E5ECF6\",\"width\":0.5},\"pattern\":{\"fillmode\":\"overlay\",\"size\":10,\"solidity\":0.2}},\"type\":\"bar\"}],\"barpolar\":[{\"marker\":{\"line\":{\"color\":\"#E5ECF6\",\"width\":0.5},\"pattern\":{\"fillmode\":\"overlay\",\"size\":10,\"solidity\":0.2}},\"type\":\"barpolar\"}],\"carpet\":[{\"aaxis\":{\"endlinecolor\":\"#2a3f5f\",\"gridcolor\":\"white\",\"linecolor\":\"white\",\"minorgridcolor\":\"white\",\"startlinecolor\":\"#2a3f5f\"},\"baxis\":{\"endlinecolor\":\"#2a3f5f\",\"gridcolor\":\"white\",\"linecolor\":\"white\",\"minorgridcolor\":\"white\",\"startlinecolor\":\"#2a3f5f\"},\"type\":\"carpet\"}],\"choropleth\":[{\"colorbar\":{\"outlinewidth\":0,\"ticks\":\"\"},\"type\":\"choropleth\"}],\"contour\":[{\"colorbar\":{\"outlinewidth\":0,\"ticks\":\"\"},\"colorscale\":[[0.0,\"#0d0887\"],[0.1111111111111111,\"#46039f\"],[0.2222222222222222,\"#7201a8\"],[0.3333333333333333,\"#9c179e\"],[0.4444444444444444,\"#bd3786\"],[0.5555555555555556,\"#d8576b\"],[0.6666666666666666,\"#ed7953\"],[0.7777777777777778,\"#fb9f3a\"],[0.8888888888888888,\"#fdca26\"],[1.0,\"#f0f921\"]],\"type\":\"contour\"}],\"contourcarpet\":[{\"colorbar\":{\"outlinewidth\":0,\"ticks\":\"\"},\"type\":\"contourcarpet\"}],\"heatmap\":[{\"colorbar\":{\"outlinewidth\":0,\"ticks\":\"\"},\"colorscale\":[[0.0,\"#0d0887\"],[0.1111111111111111,\"#46039f\"],[0.2222222222222222,\"#7201a8\"],[0.3333333333333333,\"#9c179e\"],[0.4444444444444444,\"#bd3786\"],[0.5555555555555556,\"#d8576b\"],[0.6666666666666666,\"#ed7953\"],[0.7777777777777778,\"#fb9f3a\"],[0.8888888888888888,\"#fdca26\"],[1.0,\"#f0f921\"]],\"type\":\"heatmap\"}],\"heatmapgl\":[{\"colorbar\":{\"outlinewidth\":0,\"ticks\":\"\"},\"colorscale\":[[0.0,\"#0d0887\"],[0.1111111111111111,\"#46039f\"],[0.2222222222222222,\"#7201a8\"],[0.3333333333333333,\"#9c179e\"],[0.4444444444444444,\"#bd3786\"],[0.5555555555555556,\"#d8576b\"],[0.6666666666666666,\"#ed7953\"],[0.7777777777777778,\"#fb9f3a\"],[0.8888888888888888,\"#fdca26\"],[1.0,\"#f0f921\"]],\"type\":\"heatmapgl\"}],\"histogram\":[{\"marker\":{\"pattern\":{\"fillmode\":\"overlay\",\"size\":10,\"solidity\":0.2}},\"type\":\"histogram\"}],\"histogram2d\":[{\"colorbar\":{\"outlinewidth\":0,\"ticks\":\"\"},\"colorscale\":[[0.0,\"#0d0887\"],[0.1111111111111111,\"#46039f\"],[0.2222222222222222,\"#7201a8\"],[0.3333333333333333,\"#9c179e\"],[0.4444444444444444,\"#bd3786\"],[0.5555555555555556,\"#d8576b\"],[0.6666666666666666,\"#ed7953\"],[0.7777777777777778,\"#fb9f3a\"],[0.8888888888888888,\"#fdca26\"],[1.0,\"#f0f921\"]],\"type\":\"histogram2d\"}],\"histogram2dcontour\":[{\"colorbar\":{\"outlinewidth\":0,\"ticks\":\"\"},\"colorscale\":[[0.0,\"#0d0887\"],[0.1111111111111111,\"#46039f\"],[0.2222222222222222,\"#7201a8\"],[0.3333333333333333,\"#9c179e\"],[0.4444444444444444,\"#bd3786\"],[0.5555555555555556,\"#d8576b\"],[0.6666666666666666,\"#ed7953\"],[0.7777777777777778,\"#fb9f3a\"],[0.8888888888888888,\"#fdca26\"],[1.0,\"#f0f921\"]],\"type\":\"histogram2dcontour\"}],\"mesh3d\":[{\"colorbar\":{\"outlinewidth\":0,\"ticks\":\"\"},\"type\":\"mesh3d\"}],\"parcoords\":[{\"line\":{\"colorbar\":{\"outlinewidth\":0,\"ticks\":\"\"}},\"type\":\"parcoords\"}],\"pie\":[{\"automargin\":true,\"type\":\"pie\"}],\"scatter\":[{\"marker\":{\"colorbar\":{\"outlinewidth\":0,\"ticks\":\"\"}},\"type\":\"scatter\"}],\"scatter3d\":[{\"line\":{\"colorbar\":{\"outlinewidth\":0,\"ticks\":\"\"}},\"marker\":{\"colorbar\":{\"outlinewidth\":0,\"ticks\":\"\"}},\"type\":\"scatter3d\"}],\"scattercarpet\":[{\"marker\":{\"colorbar\":{\"outlinewidth\":0,\"ticks\":\"\"}},\"type\":\"scattercarpet\"}],\"scattergeo\":[{\"marker\":{\"colorbar\":{\"outlinewidth\":0,\"ticks\":\"\"}},\"type\":\"scattergeo\"}],\"scattergl\":[{\"marker\":{\"colorbar\":{\"outlinewidth\":0,\"ticks\":\"\"}},\"type\":\"scattergl\"}],\"scattermapbox\":[{\"marker\":{\"colorbar\":{\"outlinewidth\":0,\"ticks\":\"\"}},\"type\":\"scattermapbox\"}],\"scatterpolar\":[{\"marker\":{\"colorbar\":{\"outlinewidth\":0,\"ticks\":\"\"}},\"type\":\"scatterpolar\"}],\"scatterpolargl\":[{\"marker\":{\"colorbar\":{\"outlinewidth\":0,\"ticks\":\"\"}},\"type\":\"scatterpolargl\"}],\"scatterternary\":[{\"marker\":{\"colorbar\":{\"outlinewidth\":0,\"ticks\":\"\"}},\"type\":\"scatterternary\"}],\"surface\":[{\"colorbar\":{\"outlinewidth\":0,\"ticks\":\"\"},\"colorscale\":[[0.0,\"#0d0887\"],[0.1111111111111111,\"#46039f\"],[0.2222222222222222,\"#7201a8\"],[0.3333333333333333,\"#9c179e\"],[0.4444444444444444,\"#bd3786\"],[0.5555555555555556,\"#d8576b\"],[0.6666666666666666,\"#ed7953\"],[0.7777777777777778,\"#fb9f3a\"],[0.8888888888888888,\"#fdca26\"],[1.0,\"#f0f921\"]],\"type\":\"surface\"}],\"table\":[{\"cells\":{\"fill\":{\"color\":\"#EBF0F8\"},\"line\":{\"color\":\"white\"}},\"header\":{\"fill\":{\"color\":\"#C8D4E3\"},\"line\":{\"color\":\"white\"}},\"type\":\"table\"}]},\"layout\":{\"annotationdefaults\":{\"arrowcolor\":\"#2a3f5f\",\"arrowhead\":0,\"arrowwidth\":1},\"autotypenumbers\":\"strict\",\"coloraxis\":{\"colorbar\":{\"outlinewidth\":0,\"ticks\":\"\"}},\"colorscale\":{\"diverging\":[[0,\"#8e0152\"],[0.1,\"#c51b7d\"],[0.2,\"#de77ae\"],[0.3,\"#f1b6da\"],[0.4,\"#fde0ef\"],[0.5,\"#f7f7f7\"],[0.6,\"#e6f5d0\"],[0.7,\"#b8e186\"],[0.8,\"#7fbc41\"],[0.9,\"#4d9221\"],[1,\"#276419\"]],\"sequential\":[[0.0,\"#0d0887\"],[0.1111111111111111,\"#46039f\"],[0.2222222222222222,\"#7201a8\"],[0.3333333333333333,\"#9c179e\"],[0.4444444444444444,\"#bd3786\"],[0.5555555555555556,\"#d8576b\"],[0.6666666666666666,\"#ed7953\"],[0.7777777777777778,\"#fb9f3a\"],[0.8888888888888888,\"#fdca26\"],[1.0,\"#f0f921\"]],\"sequentialminus\":[[0.0,\"#0d0887\"],[0.1111111111111111,\"#46039f\"],[0.2222222222222222,\"#7201a8\"],[0.3333333333333333,\"#9c179e\"],[0.4444444444444444,\"#bd3786\"],[0.5555555555555556,\"#d8576b\"],[0.6666666666666666,\"#ed7953\"],[0.7777777777777778,\"#fb9f3a\"],[0.8888888888888888,\"#fdca26\"],[1.0,\"#f0f921\"]]},\"colorway\":[\"#636efa\",\"#EF553B\",\"#00cc96\",\"#ab63fa\",\"#FFA15A\",\"#19d3f3\",\"#FF6692\",\"#B6E880\",\"#FF97FF\",\"#FECB52\"],\"font\":{\"color\":\"#2a3f5f\"},\"geo\":{\"bgcolor\":\"white\",\"lakecolor\":\"white\",\"landcolor\":\"#E5ECF6\",\"showlakes\":true,\"showland\":true,\"subunitcolor\":\"white\"},\"hoverlabel\":{\"align\":\"left\"},\"hovermode\":\"closest\",\"mapbox\":{\"style\":\"light\"},\"paper_bgcolor\":\"white\",\"plot_bgcolor\":\"#E5ECF6\",\"polar\":{\"angularaxis\":{\"gridcolor\":\"white\",\"linecolor\":\"white\",\"ticks\":\"\"},\"bgcolor\":\"#E5ECF6\",\"radialaxis\":{\"gridcolor\":\"white\",\"linecolor\":\"white\",\"ticks\":\"\"}},\"scene\":{\"xaxis\":{\"backgroundcolor\":\"#E5ECF6\",\"gridcolor\":\"white\",\"gridwidth\":2,\"linecolor\":\"white\",\"showbackground\":true,\"ticks\":\"\",\"zerolinecolor\":\"white\"},\"yaxis\":{\"backgroundcolor\":\"#E5ECF6\",\"gridcolor\":\"white\",\"gridwidth\":2,\"linecolor\":\"white\",\"showbackground\":true,\"ticks\":\"\",\"zerolinecolor\":\"white\"},\"zaxis\":{\"backgroundcolor\":\"#E5ECF6\",\"gridcolor\":\"white\",\"gridwidth\":2,\"linecolor\":\"white\",\"showbackground\":true,\"ticks\":\"\",\"zerolinecolor\":\"white\"}},\"shapedefaults\":{\"line\":{\"color\":\"#2a3f5f\"}},\"ternary\":{\"aaxis\":{\"gridcolor\":\"white\",\"linecolor\":\"white\",\"ticks\":\"\"},\"baxis\":{\"gridcolor\":\"white\",\"linecolor\":\"white\",\"ticks\":\"\"},\"bgcolor\":\"#E5ECF6\",\"caxis\":{\"gridcolor\":\"white\",\"linecolor\":\"white\",\"ticks\":\"\"}},\"title\":{\"x\":0.05},\"xaxis\":{\"automargin\":true,\"gridcolor\":\"white\",\"linecolor\":\"white\",\"ticks\":\"\",\"title\":{\"standoff\":15},\"zerolinecolor\":\"white\",\"zerolinewidth\":2},\"yaxis\":{\"automargin\":true,\"gridcolor\":\"white\",\"linecolor\":\"white\",\"ticks\":\"\",\"title\":{\"standoff\":15},\"zerolinecolor\":\"white\",\"zerolinewidth\":2}}},\"title\":{\"text\":\"Map Of Police Shootings In The US \"}},                        {\"responsive\": true}                    ).then(function(){\n",
       "                            \n",
       "var gd = document.getElementById('16f5e96f-659e-47a2-9801-1a1f92e4114b');\n",
       "var x = new MutationObserver(function (mutations, observer) {{\n",
       "        var display = window.getComputedStyle(gd).display;\n",
       "        if (!display || display === 'none') {{\n",
       "            console.log([gd, 'removed!']);\n",
       "            Plotly.purge(gd);\n",
       "            observer.disconnect();\n",
       "        }}\n",
       "}});\n",
       "\n",
       "// Listen for the removal of the full notebook cells\n",
       "var notebookContainer = gd.closest('#notebook-container');\n",
       "if (notebookContainer) {{\n",
       "    x.observe(notebookContainer, {childList: true});\n",
       "}}\n",
       "\n",
       "// Listen for the clearing of the current output cell\n",
       "var outputEl = gd.closest('.output');\n",
       "if (outputEl) {{\n",
       "    x.observe(outputEl, {childList: true});\n",
       "}}\n",
       "\n",
       "                        })                };                });            </script>        </div>"
      ]
     },
     "metadata": {},
     "output_type": "display_data"
    }
   ],
   "source": [
    "fig = px.choropleth(\n",
    "   states,\n",
    "    locations=\"state\",\n",
    "    color=\"name\",\n",
    "    hover_name=\"state\",\n",
    "    locationmode=\"USA-states\",\n",
    ")\n",
    "fig.update_layout(\n",
    "    title_text=\"Map Of Police Shootings In The US \",\n",
    "    geo_scope=\"usa\",\n",
    ")\n",
    "fig.show()"
   ]
  },
  {
   "cell_type": "markdown",
   "id": "b03bf251",
   "metadata": {},
   "source": [
    "# Machine learning model to predict the race of the victim"
   ]
  },
  {
   "cell_type": "code",
   "execution_count": 380,
   "id": "eddf9f94",
   "metadata": {},
   "outputs": [],
   "source": [
    "# Separating and encoding data to integers\n",
    "from sklearn.preprocessing import LabelEncoder\n",
    "le = LabelEncoder()\n",
    "y = le.fit_transform(shooting_data[\"race\"])\n",
    "X = pd.get_dummies(\n",
    "    shooting_data.filter(\n",
    "        [\n",
    "            \"manner_of_death\",\n",
    "            \"signs_of_mental_illness\",\n",
    "            \"armed\",\n",
    "            \"flee\",\n",
    "            \"threat_level\",\n",
    "            \"state\",\n",
    "            \"gender\",\n",
    "            \"age\",\n",
    "            \"city\",\n",
    "        ]\n",
    "    )\n",
    ")"
   ]
  },
  {
   "cell_type": "code",
   "execution_count": 471,
   "id": "56a6228c",
   "metadata": {},
   "outputs": [],
   "source": [
    "# Splitting the dataset\n",
    "from sklearn.model_selection import train_test_split\n",
    "X_train, X_test, y_train, y_test = train_test_split(\n",
    "    X, y, test_size=0.2, random_state=42\n",
    ")"
   ]
  },
  {
   "cell_type": "code",
   "execution_count": 472,
   "id": "f35ab97b",
   "metadata": {},
   "outputs": [
    {
     "name": "stdout",
     "output_type": "stream",
     "text": [
      "Model predicts with 61.31% accuracy\n"
     ]
    }
   ],
   "source": [
    "# Building a random forests classifier\n",
    "from sklearn.ensemble import RandomForestClassifier\n",
    "rfc = RandomForestClassifier(random_state=369)\n",
    "rfc.fit(X_train, y_train)\n",
    "print(f\"Model predicts with {round((rfc.score(X_test, y_test)*100), 2)}% accuracy\")"
   ]
  },
  {
   "cell_type": "code",
   "execution_count": 416,
   "id": "2138d30c",
   "metadata": {},
   "outputs": [
    {
     "name": "stdout",
     "output_type": "stream",
     "text": [
      "              precision    recall  f1-score   support\n",
      "\n",
      "           A       0.00      0.00      0.00         5\n",
      "           B       0.59      0.39      0.47       101\n",
      "           H       0.54      0.37      0.44        73\n",
      "           N       0.00      0.00      0.00         7\n",
      "           O       0.00      0.00      0.00         6\n",
      "           W       0.64      0.86      0.73       206\n",
      "\n",
      "    accuracy                           0.61       398\n",
      "   macro avg       0.29      0.27      0.27       398\n",
      "weighted avg       0.58      0.61      0.58       398\n",
      "\n"
     ]
    }
   ],
   "source": [
    "from sklearn.metrics import classification_report\n",
    "print(classification_report(y_test, rfc.predict(X_test), target_names=le.classes_))"
   ]
  }
 ],
 "metadata": {
  "kernelspec": {
   "display_name": "Python 3",
   "language": "python",
   "name": "python3"
  },
  "language_info": {
   "codemirror_mode": {
    "name": "ipython",
    "version": 3
   },
   "file_extension": ".py",
   "mimetype": "text/x-python",
   "name": "python",
   "nbconvert_exporter": "python",
   "pygments_lexer": "ipython3",
   "version": "3.8.8"
  }
 },
 "nbformat": 4,
 "nbformat_minor": 5
}
